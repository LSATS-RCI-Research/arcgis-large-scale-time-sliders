{
 "cells": [
  {
   "cell_type": "markdown",
   "metadata": {},
   "source": [
    "# Time Slider Setup"
   ]
  },
  {
   "cell_type": "markdown",
   "metadata": {},
   "source": [
    "This notebook adds one or more date fields to an existing feature class and populates these date fields with a scaled version of the original date or dates of the data. The scaled date fields can then be used to time-enable the data in ArcGIS Online and add a time slider, with custom JavaScript displaying the original date fields as labels."
   ]
  },
  {
   "cell_type": "markdown",
   "metadata": {},
   "source": [
    "### Define some variables."
   ]
  },
  {
   "cell_type": "code",
   "execution_count": 1,
   "metadata": {},
   "outputs": [],
   "source": [
    "# These first two values are items that should already exist in your ArcGIS Pro project.\n",
    "# fc: existing feature layer of data to be mapped\n",
    "fc = \"CorinthPolyCombined\"\n",
    "# map_name: the map containing this feature layer\n",
    "map_name = \"TimeScaleMap\"\n",
    "\n",
    "# The following variables are used in publishing the feature's service definition to ArcGIS Online (AGOL).\n",
    "# These don't exist yet, so you can use whatever information you want (as long as it follows AGOL rules).\n",
    "service_name = \"TimeScalesCorinthExample\"\n",
    "sd_description = \"This dataset is extracted from the GIS data from ASCSA Corinth Excavations. This feature layer is a combination of the Greek, Roman, and Frankish polygon layers. Note that this layer was created solely for use in illustrating the creation of online maps with time sliders spanning non-standard date ranges. This layer should not be used for any reference purposes.\"\n",
    "sd_summary = \"Combined polygon layers from https://www.arcgis.com/home/item.html?id=f5e717c8341347a5b773d9c5e3512fdf\"\n",
    "sd_tags = \"timescales, corinth\" # Add other tags as desired\n",
    "sd_credits = \"ASCSA Corinth Excavations\" # Include any credits for your feature layer here, if applicable"
   ]
  },
  {
   "cell_type": "markdown",
   "metadata": {},
   "source": [
    "## Add scaled dates to data to use with time slider"
   ]
  },
  {
   "cell_type": "markdown",
   "metadata": {},
   "source": [
    "Define which tables we're using and what the original date field(s) is."
   ]
  },
  {
   "cell_type": "code",
   "execution_count": 2,
   "metadata": {},
   "outputs": [],
   "source": [
    "# These should be the column names of the date fields containing the actual dates.\n",
    "# If you're working with a single column, change the date_range variable here to False; you can ignore datefield2.\n",
    "date_range = True\n",
    "datefield1 = \"ChronEarly\"\n",
    "if date_range:\n",
    "    datefield2 = \"ChronLate\""
   ]
  },
  {
   "cell_type": "markdown",
   "metadata": {},
   "source": [
    "### Add the fields to hold the scaled dates"
   ]
  },
  {
   "cell_type": "markdown",
   "metadata": {},
   "source": [
    "First we'll get a list of the existing fields."
   ]
  },
  {
   "cell_type": "code",
   "execution_count": 3,
   "metadata": {},
   "outputs": [],
   "source": [
    "lstFields = [f.name for f in arcpy.ListFields(fc)]"
   ]
  },
  {
   "cell_type": "markdown",
   "metadata": {},
   "source": [
    "Now define the field(s) we'll add to hold the scaled dates.\n",
    "\n",
    "These fields will be added to the data to hold scaled versions of the original date values."
   ]
  },
  {
   "cell_type": "code",
   "execution_count": 4,
   "metadata": {},
   "outputs": [],
   "source": [
    "scaledfield1 = \"ScaledEarliestDate\"\n",
    "\n",
    "if scaledfield1 in lstFields:\n",
    "    print(f\"WARNING! {scaledfield1} already exists!\")\n",
    "    print(\"If you do not want this field to be overwritten, change the value of scaledfield1 above and rerun this cell before continuing.\")\n",
    "    print(f\"If you continue, the values in {scaledfield1} will be overwritten.\")"
   ]
  },
  {
   "cell_type": "code",
   "execution_count": 7,
   "metadata": {},
   "outputs": [],
   "source": [
    "result = arcpy.management.AddFields(fc, scaledfield1 + \" DATE # # # #;\")"
   ]
  },
  {
   "cell_type": "markdown",
   "metadata": {},
   "source": [
    "Now do the same for the second date column.\n",
    "\n",
    "If you have a single date column (as opposed to a range of date represented by two columns), skip the next cells."
   ]
  },
  {
   "cell_type": "code",
   "execution_count": 8,
   "metadata": {},
   "outputs": [],
   "source": [
    "scaledfield2 = \"ScaledLatestDate\"\n",
    "\n",
    "if scaledfield1 in lstFields:\n",
    "    print(f\"WARNING! {scaledfield2} already exists!\")\n",
    "    print(\"If you do not want this field to be overwritten, change the value of scaledfield2 above and rerun this cell before continuing.\")\n",
    "    print(f\"If you continue, the values in {scaledfield1} will be overwritten.\")"
   ]
  },
  {
   "cell_type": "code",
   "execution_count": 9,
   "metadata": {},
   "outputs": [],
   "source": [
    "result = arcpy.management.AddFields(fc, scaledfield2 + \" DATE # # # #;\")"
   ]
  },
  {
   "cell_type": "markdown",
   "metadata": {},
   "source": [
    "### Calculate scaled dates"
   ]
  },
  {
   "cell_type": "markdown",
   "metadata": {},
   "source": [
    "First we'll figure out what the actual date range we're working with is. "
   ]
  },
  {
   "cell_type": "code",
   "execution_count": 10,
   "metadata": {},
   "outputs": [],
   "source": [
    "# Get a list of all the valid values in each date column\n",
    "earlydates = [row[0] for row in arcpy.da.SearchCursor(fc, datefield1) if row[0]]\n",
    "if date_range:\n",
    "    latedates = [row[0] for row in arcpy.da.SearchCursor(fc, datefield2) if row[0]]"
   ]
  },
  {
   "cell_type": "code",
   "execution_count": 11,
   "metadata": {},
   "outputs": [
    {
     "name": "stdout",
     "output_type": "stream",
     "text": [
      "Earliest date found: -725.0\n",
      "Latest date found: 1802.0\n"
     ]
    }
   ],
   "source": [
    "# Find the largest and smallest values. \n",
    "# Note that + concatenates the list (it's not adding).\n",
    "if date_range:\n",
    "    earliest = min(earlydates + latedates)\n",
    "    latest = max(earlydates + latedates)\n",
    "else:\n",
    "    earliest = min(earlydates)\n",
    "    latest = max(earlydates)\n",
    "print(f\"Earliest date found: {earliest}\")\n",
    "print(f\"Latest date found: {latest}\")"
   ]
  },
  {
   "cell_type": "code",
   "execution_count": 12,
   "metadata": {},
   "outputs": [
    {
     "name": "stdout",
     "output_type": "stream",
     "text": [
      "Year range: 2527.0\n"
     ]
    }
   ],
   "source": [
    "# Figure out how many years this is.\n",
    "year_range = latest - earliest\n",
    "print(f\"Year range: {year_range}\")"
   ]
  },
  {
   "cell_type": "markdown",
   "metadata": {},
   "source": [
    "**This section defines how the years will be scaled. \n",
    "You might want to tweak these values to get the outcome you desire.**\n",
    "\n",
    "We'll use 1900-2150 as the output date range to get a scale of about 10 scaled years to 1 original year.\n",
    "\n",
    "Note that this means we'll lose some resolution, since we're compressing 2527 years into 250 years."
   ]
  },
  {
   "cell_type": "code",
   "execution_count": 13,
   "metadata": {},
   "outputs": [
    {
     "name": "stdout",
     "output_type": "stream",
     "text": [
      "Scaled date range: 1900 to 2150\n"
     ]
    }
   ],
   "source": [
    "# These are the values that can be adjusted\n",
    "scaled_years = 250\n",
    "start_date = 1900\n",
    "# Everything past this is calculated.\n",
    "end_date = start_date + 250\n",
    "print(f\"Scaled date range: {start_date} to {end_date}\")"
   ]
  },
  {
   "cell_type": "code",
   "execution_count": 14,
   "metadata": {},
   "outputs": [
    {
     "name": "stdout",
     "output_type": "stream",
     "text": [
      "The following values will be used in your JavaScript file! Save these for reference.\n",
      "scaleFactor: 0.0989\n",
      "offset: 1971.7254\n"
     ]
    }
   ],
   "source": [
    "scale_factor = scaled_years/(latest-earliest)\n",
    "offset = end_date - (scaled_years*latest)/(latest-earliest)\n",
    "print(\"The following values will be used in your JavaScript file! Save these for reference.\")\n",
    "print(f\"scaleFactor: {round(scale_factor,4)}\")\n",
    "print(f\"offset: {round(offset,4)}\")"
   ]
  },
  {
   "cell_type": "code",
   "execution_count": 16,
   "metadata": {},
   "outputs": [],
   "source": [
    "# Check to make sure it comes out correctly\n",
    "# This should not throw an error. \n",
    "assert(abs(earliest * scale_factor + offset - start_date) < 1)\n",
    "assert(abs(latest * scale_factor + offset - end_date) < 1)"
   ]
  },
  {
   "cell_type": "markdown",
   "metadata": {},
   "source": [
    "Apply the above calculation to the newly created column values.\n",
    "\n",
    "Calculate the scaled year, and apply an arbitrary date (Feb. 1 in this case) that is not Jan 1, to avoid time zones causing inadvertent year shifts."
   ]
  },
  {
   "cell_type": "code",
   "execution_count": 18,
   "metadata": {},
   "outputs": [],
   "source": [
    "arcpy.management.CalculateField(fc, \n",
    "                                scaledfield1, \n",
    "                                f\"datetime.datetime(round({scale_factor} * !{datefield1}! + {offset}),2,1)\", \"PYTHON3\")\n",
    "if date_range:\n",
    "    arcpy.management.CalculateField(fc, \n",
    "                                    scaledfield2, \n",
    "                                    f\"datetime.datetime(round({scale_factor} * !{datefield2}! + {offset}),2,1)\", \"PYTHON3\")"
   ]
  },
  {
   "cell_type": "markdown",
   "metadata": {},
   "source": [
    "## Publish the layer to ArcGIS Online"
   ]
  },
  {
   "cell_type": "markdown",
   "metadata": {},
   "source": [
    "Check the current portal connection."
   ]
  },
  {
   "cell_type": "code",
   "execution_count": 19,
   "metadata": {},
   "outputs": [],
   "source": [
    "import os\n",
    "from arcgis import GIS\n",
    "from arcgis.features import FeatureLayerCollection\n",
    "import xml.dom.minidom as DOM "
   ]
  },
  {
   "cell_type": "code",
   "execution_count": 20,
   "metadata": {},
   "outputs": [],
   "source": [
    "gis = GIS(\"Pro\")"
   ]
  },
  {
   "cell_type": "markdown",
   "metadata": {},
   "source": [
    "If you're running this notebook outside ArcGIS Pro OR are not already signed into a portal, uncomment the following line and sign in to your portal.\n"
   ]
  },
  {
   "cell_type": "code",
   "execution_count": 68,
   "metadata": {},
   "outputs": [],
   "source": [
    "# gis = GIS(\"https://www.arcgis.com\", \"MyUsername\", \"MyPassword\")"
   ]
  },
  {
   "cell_type": "code",
   "execution_count": 21,
   "metadata": {},
   "outputs": [
    {
     "name": "stdout",
     "output_type": "stream",
     "text": [
      "C:\\Users\\aheinlei\\Documents\\ArcGIS\\Projects\\HugeTimeScales\n"
     ]
    }
   ],
   "source": [
    "# Set output directory\n",
    "project = arcpy.mp.ArcGISProject(\"CURRENT\").filePath\n",
    "outdir = os.path.dirname(project)\n",
    "print(outdir)"
   ]
  },
  {
   "cell_type": "markdown",
   "metadata": {},
   "source": [
    "Set output filenames"
   ]
  },
  {
   "cell_type": "code",
   "execution_count": 22,
   "metadata": {},
   "outputs": [],
   "source": [
    "# Set output filenames\n",
    "sddraft_filename = service_name + \".sddraft\"\n",
    "sddraft_output_filename = os.path.join(outdir, sddraft_filename)\n",
    "sd_filename = service_name + \".sd\"\n",
    "sd_output_filename = os.path.join(outdir, sd_filename)"
   ]
  },
  {
   "cell_type": "markdown",
   "metadata": {},
   "source": [
    "Create a service definition draft, after checking to see if this service definition already exists."
   ]
  },
  {
   "cell_type": "code",
   "execution_count": 23,
   "metadata": {},
   "outputs": [
    {
     "data": {
      "text/plain": [
       "<arcpy._mp.Layer object at 0x000002119EEEBDC8>"
      ]
     },
     "execution_count": 23,
     "metadata": {},
     "output_type": "execute_result"
    }
   ],
   "source": [
    "# Get the layer to use\n",
    "m = arcpy.mp.ArcGISProject(\"CURRENT\").listMaps(\"TimeScaleMap\")[0]\n",
    "lyr = m.listLayers(fc)[0]\n",
    "lyr"
   ]
  },
  {
   "cell_type": "code",
   "execution_count": 24,
   "metadata": {},
   "outputs": [],
   "source": [
    "# Create FeatureSharingDraft \n",
    "# https://pro.arcgis.com/en/pro-app/latest/arcpy/mapping/createweblayersddraft.htm\n",
    "server_type = \"HOSTING_SERVER\"\n",
    "# sddraft = m.getWebLayerSharingDraft(server_type, \"FEATURE\", service_name)\n",
    "arcpy.mp.CreateWebLayerSDDraft(lyr, sddraft_output_filename, service_name, 'MY_HOSTED_SERVICES', 'FEATURE_ACCESS')\n",
    "# Check whether a service with this name already exists\n",
    "if len(gis.content.search('title: ' + service_name)) > 0:\n",
    "    print(\"WARNING! A service with this name already exists. Either delete the existing service or choose a different service_name (near the top of this notebook).\")"
   ]
  },
  {
   "cell_type": "code",
   "execution_count": 25,
   "metadata": {},
   "outputs": [],
   "source": [
    "# Define a function to update individual fields of metadata in the service definition draft file \n",
    "def changeProperty(doc, prop_name, new_value):\n",
    "    descriptions = doc.getElementsByTagName(prop_name)\n",
    "\n",
    "    for desc in descriptions:\n",
    "        if desc.parentNode.tagName == 'ItemInfo':\n",
    "            # modify the Description\n",
    "            if desc.hasChildNodes():\n",
    "                desc.firstChild.data = new_value\n",
    "            else:\n",
    "                txt = doc.createTextNode(new_value)\n",
    "                desc.appendChild(txt)\n",
    "    return(doc)"
   ]
  },
  {
   "cell_type": "code",
   "execution_count": 26,
   "metadata": {
    "scrolled": true
   },
   "outputs": [],
   "source": [
    "# Update the service definition draft with the desired metadata. \n",
    "# Parse the file as xml\n",
    "sd_xml = DOM.parse(sddraft_output_filename)\n",
    "# Update the fields\n",
    "sd_xml = changeProperty(sd_xml, 'Snippet', sd_summary)\n",
    "sd_xml = changeProperty(sd_xml, 'Description', sd_description)\n",
    "sd_xml = changeProperty(sd_xml, 'Credits', sd_credits)\n",
    "sd_xml = changeProperty(sd_xml, 'Tags', sd_tags)\n",
    "# Write out the updated version\n",
    "f = open(sddraft_output_filename, 'w')     \n",
    "sd_xml.writexml( f )     \n",
    "f.close() "
   ]
  },
  {
   "cell_type": "code",
   "execution_count": 27,
   "metadata": {
    "scrolled": true
   },
   "outputs": [
    {
     "name": "stdout",
     "output_type": "stream",
     "text": [
      "Start Staging\n",
      "Start Uploading\n",
      "Finish Publishing\n"
     ]
    }
   ],
   "source": [
    "# Stage Service\n",
    "print(\"Start Staging\")\n",
    "arcpy.StageService_server(sddraft_output_filename, sd_output_filename)\n",
    "\n",
    "# Share to portal\n",
    "print(\"Start Uploading\")\n",
    "uploaded = arcpy.UploadServiceDefinition_server(sd_output_filename, server_type)\n",
    "\n",
    "print(\"Finish Publishing\")"
   ]
  },
  {
   "cell_type": "markdown",
   "metadata": {},
   "source": [
    "### Get a reference to the newly created layer, share it, and time-enable"
   ]
  },
  {
   "cell_type": "code",
   "execution_count": 28,
   "metadata": {},
   "outputs": [],
   "source": [
    "# The id of the layer in ArcGIS Online is index 3 in the returned array.\n",
    "layer_id = uploaded[3]\n",
    "layer = gis.content.get(layer_id)"
   ]
  },
  {
   "cell_type": "code",
   "execution_count": 29,
   "metadata": {},
   "outputs": [
    {
     "data": {
      "text/html": [
       "<div class=\"item_container\" style=\"height: auto; overflow: hidden; border: 1px solid #cfcfcf; border-radius: 2px; background: #f6fafa; line-height: 1.21429em; padding: 10px;\">\n",
       "                    <div class=\"item_left\" style=\"width: 210px; float: left;\">\n",
       "                       <a href='https://umich.maps.arcgis.com//home/item.html?id=1c5bcad792e24f7e8819369f2566726c' target='_blank'>\n",
       "                        <img src='data:image/png;base64,/9j/4AAQSkZJRgABAQEAAAAAAAD/2wBDAAgGBgcGBQgHBwcJCQgKDBQNDAsLDBkSEw8UHRofHh0aHBwgJC4nICIsIxwcKDcpLDAxNDQ0Hyc5PTgyPC4zNDL/2wBDAQkJCQwLDBgNDRgyIRwhMjIyMjIyMjIyMjIyMjIyMjIyMjIyMjIyMjIyMjIyMjIyMjIyMjIyMjIyMjIyMjIyMjL/wAARCADIASwDAREAAhEBAxEB/8QAHwAAAQUBAQEBAQEAAAAAAAAAAAECAwQFBgcICQoL/8QAtRAAAgEDAwIEAwUFBAQAAAF9AQIDAAQRBRIhMUEGE1FhByJxFDKBkaEII0KxwRVS0fAkM2JyggkKFhcYGRolJicoKSo0NTY3ODk6Q0RFRkdISUpTVFVWV1hZWmNkZWZnaGlqc3R1dnd4eXqDhIWGh4iJipKTlJWWl5iZmqKjpKWmp6ipqrKztLW2t7i5usLDxMXGx8jJytLT1NXW19jZ2uHi4+Tl5ufo6erx8vP09fb3+Pn6/8QAHwEAAwEBAQEBAQEBAQAAAAAAAAECAwQFBgcICQoL/8QAtREAAgECBAQDBAcFBAQAAQJ3AAECAxEEBSExBhJBUQdhcRMiMoEIFEKRobHBCSMzUvAVYnLRChYkNOEl8RcYGRomJygpKjU2Nzg5OkNERUZHSElKU1RVVldYWVpjZGVmZ2hpanN0dXZ3eHl6goOEhYaHiImKkpOUlZaXmJmaoqOkpaanqKmqsrO0tba3uLm6wsPExcbHyMnK0tPU1dbX2Nna4uPk5ebn6Onq8vP09fb3+Pn6/9oADAMBAAIRAxEAPwD2+JDHGATljyx9SetZRioqyC4+qAmjix8z/lTSAbLLu4HShsCOpAKYBQAUAFAAKQwZ1QZZgo9ScUCER1kXcjBh6incBn2iPz/J3fP6YpXV7AS0wEoAKAEoAKQBQBG88UZwzjPoOTQBH50r/wCrhP1c4oGNIdivmT4DHACD+tMQJCqgmOH5g2Mv3HrQA24uYId6zXAG7gIp+YflzSAryX5WRBHbEMwwJJjtHFK4EFt5s93cIbrYWwwEQ4PHrQteoy3ZB3tQHnYFMo3AHINNCLDImWDXDdCSN+MA0wK2oXMC26jzOVZTnn19ahyXcZNb3AnvpBG+6PYMfWmmnsBdpiKWpeT5cXnorIZADuOAKbAoWsW/UA0MKQwZwVQZ3Y5yTWWkpJ2Gac1jBNIHZAD3wOorRxTdxHOXtvJDPPG43wodwCthyCD+YrPlcb8oxGuBcGwzCtvCPkyWHPfkemcGqTvqBpiYXGlyx+crtbt1zgOBz+vSq6CNu1uo5bZJIyGRhlSKpMBACTgDJpATqixjcx5qrWAiklLnHQVLdwI6ACgAoARnRBl2Cj3OKQFdtRtxkKzSEdRGpOKXMgG/aLqQ4itdo67pG4/Si77AIYrpwDNdCMHqEGMfjRZjGLb2mckPOx9cn/63ajlQh9hiOSeEKVw24L6A9qF1QDpf3GoRy/wyjY317UPR3At1QBQAhIAyTgUAQtcxA4Dbz6LzQAnmTv8AdjEY9XP9KAGMm7f5kjyFeqJx/nrQA9YxHuCoiJt4bvmkBA17ArriV5pFGCsQyD+XFAwVrp12w2yQL2MhyfyH+NMQG1aQEz3MsuOqIdo/IUgFlsohbSxxxJHkfK3vRYCneFZIIpSGkkTGUB+U+vtSa0GUVkjfUFDKkMcnygKc7T9aiyuBuQ6dDDGyZZwzBjk9xWiihFgwRMzMY1LMME46igDPvYoobiDaiqrBh6DpmiyA01AwCABn0oGOoEZepW00ihvMVwJFKow4x71E3yrmY0PspXjuFhkVVEke5Np9P/rUU48qBmjWgjD8QzS2UaXVuqmRgYyCOxpO/QCHT9EgniH2l5n2YK/MQCCBzSUQNJdE09Gz9nUn3Oc07ICzFbLCCsbMqE5CjoPpTAvEpCMDk1WwEDuWOTU3AbQAUgI5Z4oAvmOF3HA9zQBDJO/ls5xDGByz9e/QfkaAKVusM92hcb98fO4k5Yf/AFsGsKd+dqRTL8bsXdYokQKduT/h+Vbkj/JkcYkmbkfwcdqAFFvFncVyfU8+9MCUADoMUgKkh8rU427SoV/EUuoyS9jMtqwX7y/Mv1FDWgDopvNtllUZJXOPf0pp3QhjNcEFiUiUcnucUAMEMbMocvLkZBJ4pgOLiFEaRooR/ECev40AQfao3BWKKW5+bcDjAH4mgB2L6XJLRW4/2Rub8+n6UAAsYXZTMZLgnnLnIH4UATZSBFJ8uJR1FICsdRtiSFJk2ncT2WlzJaXAjfUshzErMF5bYMcfU02wI5WuJHKhlQ+V5gz8xPtmh3AooZJjHIAsglQ8sS20+/pUbjHzwyz6LbSMojeJshvWm1oBuw3CPbxyM6jco6nHNWIkM0Q6yIP+BCldAZOtSxOsSjEjKxyB2yOtKUkhovxXAS0gJVmJXHy+w5pOaSuwJ2lCweaASMZxVX0uIo6hK8mnSHHlurhePmrKUlOF0PZmfFA6xRzQQJCI2yu7hnx2+hpxb5bsC1Lq0khCW6bWPtuPp0+tap31ENTSprtt925UHquctjg4z2waANeKNYYljTO1RgZPagB9ABQAlAAaQCUAJQMr3duLiI9d6jK4OOev8wKUo3Ax7zzD5coZpN33QT1Yc4/4EuaUXdXAbayKlxA6kkIwUHsUbpn6dKTsmgN1PlupB/eAb+lWIie5uGuZIYY0OwAkueuaV3eyGNlGoCNnV03do1XP6mj3gJ4g6TFXdm3Lnkjjn0piGXyr5SSsxXy2ByBzjp/WhgS27FoFySSOCTTApLNFaNPbSSGMZ3Jjrg+lStNBh9s33GyC1ZpHX70nyggU7iIGuJTLLFdXYg2YAWEcnP60XAk0yKGS38wxF5lO0tJ1P50IZfZ0UlS4AxjC9R+VMRXlvYYiOgfGBuOT+QpXQFd7+VlZo422htpJ+UA+/elzDIwD58n2mRB5LA7BjDA+5qKibi0CJ8KYFWKIuVJQ7Rx9f5VLTnBNbjHC1uJJTIxSNXj2OmMmtiQWztYynmM0roNo3HOPwosALYQbvkt8Ln+I8flS5UMklsBPAsLSFEBB2xjA+lNpNCFj023jhWILlVJIyPWiyAcdPt2UBlzhdo9uadkBI1rExJK9cd/ShoBHt8RIkRChemRmonBSjyjJPLBgERP8OM1VtLAVbq1mNjMsUrGYnerHjmoUEo8qC4lnbCSFXmRwx6o3alGklvqFy3FbxQkmONVJ5OBWoiSgAoAKACgBKQCGgAoASgAoAx51V7WYdFMgK/UHPH1XArJOyfqMml0yJLN9ucquV9sc1fKktALKvv8As0w43jB/EZ/pVIQyXzob5pI4WkR0G7BA5FLZgEjXk8bKIURWGPmbmh3YyWGKZWRpGQ7VxwOeg7/WmIkuY/NtpI8Z3KQKGA20l820jbOTt5+tC1QyveNHBeW9w5UAny2J9+R/Kh7iKt9PDNJD5byTsrHIg7qe2RxSaAIrO4FwJbe3itl24PmfMT749adgHz2clvbySm5kZmcM+OBjoeBQ9BlZMCKEyzuU8zY8Y7enTmp9QJktpDDJFDbneku5JH4yM07dhFk2BZpXmlwsnLKOBQ0BKI7YPuWPzHxjOM07ICX96eiqg/OmAnk5Hzuz/XpQBIqqowoAoAr6hNJb2heIgNkDOM0AUonu3UPLcSLz9wqv8xQBsA5ANABQAUAFABSGLQIKYBQAUAFABQAUAJSASgAoASgYjKGUqehGKBFFoGM0SJCQkL7gzNwT6/lmps1ZLYZodRiqEZ0HFi6fxQSH9Dn+VKO1gNDcNu7IxjOaYDGniXguM+3P+etADfP3H5Y3PvjA64oAN1ww+6ifU5/z2oAo2Ky+bJCJl2xSfdHUg0lcZcezt5XZpIw+4gkNyMjpTsIlVFQYRQo9AMUAO3AEAkZPSgBssYlheM9GBFMCjazRpAoMP77o2Rzkd6m6S1GWfNkc8bvoif41DrU11CzFRU3hXRw3UeZ3pwqxn8INWJ8AdK0EFACUALQBDOsNwGtpedwyVoAiXS7NSG8hS3qeTQBc6DFABQAUAFABSGLQIKYBQAUAFABQAUAJQAlIAoAKACgAoAKAKG6OG+uI5GCrKgYc/gaWzAa1xZL8u5pTjtlu2KLoYn21zjybQjPduKLgHmXsh5kSJTxhRkijUCJ4SWmSeSWYRgcA4JzU9XcBbaJLHVBDGCI5Y9wycnPpTtZgap6cVQjNt4murfzbm5k6kMobaAR9KAFg2+UggDyyRtt3EfeA46+lRKrCO7HYnkmtocefcuZD/ChP5DFcjq1pv3VoVZFVtbt4Bi3tWZiSOcA5+nWj6vUm7yYXRC+q6nMpaKAog5LKmePx9q0jhY9RcxMRdiOK9V5JYl+dlZhkj2HY0ozpQlZBZs0Ipi4XcAN43KQeCK3p1VO6QmrEtaiCgAoAyb6XZeIz+bCmSoZRndx2qWru4ySyltGbzlZ1PZpXA3fhmhJIRehlaRpAy4CthT6j1qhktAgoAKACkMWgQUwCgAoAKACgAoASgBKQCMyqMsQB6k0AQPfWyEgygkdl5NF0BCdSDf6q3lcepGKVwGme8fgCKP3+9RqMjcSMrNNdPtH3gvA/SiwDRbwKy5QuW6MeaLICUZG8KgUjhT68UwFw52EnaR94dj+dADUZDI21iWbnGeOOKAI51le53LOIVI+9+A/+v+VZt+/byDoRQRKb1JFujO0bckjnBH+NUo63uBs1QjKv7aCA+cYDIpbLAtxkn+VZ1FJq0RorXl95YTzpWeFW2PFApCj0Ge9RGhCOr1HcVUC2cdzsYS28gGwHtnHT8a3QiZQ322dfMW2BO/JUbjn0NLqApFif9ZPNct0OCTRdAW9Ol2WM5RGZY2O2PuB6V51ZLn7FLYgtmaNFErKsMzboyv8Ayzb0raVN07TiK99DQWXB2yfI4656H6V006kZq6FYkrQQjBihCkBscE0AYkss09xHB9qjMySlfujkEdcUgGnR7leAlu3yhQwyO+c0wN8DAFIBaAEpjCkAUALQIKYBQAUAFAFaW+giYLv3MSAAvPJ6UAZ8uszggw2qshH8T4IOcY/SlcC4ZbyQ4SKOMH++2SPwpagJ9nuXOJLsg9hGMUWYDRaWoRpCHm2kg5JbnODRZAWVjSN1RIVC4J3DtTAqMr4kUsFOSFI7CgYxni8xD5nI4GDwc/8A6qAEVwfuQthyCSRjrQA4eccZCKOPf60AKsTb0LyscEdOO9AFtbeJf4M/XnvmgRFIoWQ4A/CgZXnXIHyqxHZunB/+yrKppKLBCAv5hEjwDcvEcYycjmtEI0VOVBpgJIiyRsjDKsMGgDnkSWS3v7Bz908fKSSeuaXkA5L2LyJEZm3zQqwVBkh8Y7fhQgL9rZyXdokziNpGUANJ836dq5p4lJ2sVYtrprEASXTgekYCfyrF4qb2HylmG2S1hZIBycnLHOT71hKTk7yGc9IiIPNumLAsfMhBxsb1Ar06ajyK2xD3NG1upjGkFxCrEjKFm5Zf8a53hne8XYfMWF3K22PKn/nm/Q/Q1XtKlL49UFkyaNxIucYPQg9jXTFqSuiREgijOUjRT6gc1QEtIApgFIBKBhQAyaRo49yRl2zgKDimIbBP528FCjocEE5oAmpARTXMMCkyyKuPzpgUHu5Lm7WGFmRG3AE8fMKAKYa+uH8pA7tFgMScKGB/XIpXAsw6MxA8+YhemyPjjOQM+1FgLq6bZouBAp9zyadgKhZFAWSbJ3ZJBwfXt7UhlzzUMm5I2ZgNu4DtjNMQoMx+7GqAnufb/GgBRFKcF5j2OFGO2D/jSArSWyJLzljwcsc9BigYKiqAFUADjigBaACgAPSgC4OVB9RTEUyCGxgk0hjZYmMRyMAnHPuMf1FZ1V7gIrxqV8qRbaGKMkDczc46VaA0YP8AVAf3eOlUIkpAZ90xtbtZVjLrMPLYDjntQMxftEllfLKI0JXKFI+CcVDaTuBvaHO8ltIkkZjZXJCnrg8iuDExtO5SNWsBhQBj35h+1LNbhZbjGxkAyGHvXZhnNdNBOxATNbgWzRmSRcPF5Y6DuOa7SCzKtzKgeeaO3TGQB1B+tJx5lZgPtZTLai5jYMRxIvqR3rkhUdKfI9imr6lwEEAjoa7RDqQgpgFIAoAKAKs1/bxEruLsP4YxuNAEPnJa2y3EXzRyyBpC55ANMCpd3V5JM8EYk3AkYiXp3Bz6UgCLSrmVmaVlhVi3A+ZsHqM0AWxo9qMH94ZM537zmgC5DBFbpsiQKOp96YElABQBAltDHysag+uPwoAloABSAWmBBcD7p/CgCCkMKACgAoAswnMQ9uKYiSgCOZS0LgDJxkfXtSaurAZZh3b9lm0rEkqXbCj0rOmmopNDZYitZ5AxmfZk52IciqcW92BaihWBNi5xnPJzVJWEQ30Ins5EJx0OR2560S2dgRkSWs91abYkWN4pMELyWPrntURalG6GWrS7mgvUe7EUSMmw4fJyPUVjiIOUU0NMuHWopSwtQrhesjttX/69c8MNKW+g2yGGVr64eK4mJAAKrHlVYf1rqp0IRYmyaaaGygVNgDscKkfUmt9iShcXd3IXlDJEYCMoo3MAfWldgRGKIySwPJ5jMgeBidxz1xik2luM0bZbpUmkNsI0ePldwBzjk1xVpwnJWKWhei/1Kf7orvRJJQIKAI5ZooIy8sioo7scUAR215Bd7vJfcFAOexzQBSh2Xks6XNwxaJ8NEDtUDt9aALrRrbwt5EAJxwq8Z/GgZUsdLWKIfaAXkDEgM24Lk5pgaVIBaBBQAUwCgAoASgBKBhSAWgRHMMxH25pgVaQw69AT9KAHiKRv4cfWmA8W395vyoETKgQYXpQA2SRIkLucKOpoAjW6ik/1ZMnsozUOpBbsdmH2iPPJIPptNCnF63CwCYtkrDKR2IXrUutBO1wsxfNA+8ki/VaPbQ7hZiGeLuT/AN8mqVSL6hqUSTBOZkJ8ljsY9Oeo/wAKzjJRnyrqHQhjuLG3vbgSNGd+GB+916itbpACx+dLMbayd4nTC7l2hT6jNZSrU4vcLMjklnlhgZzHHhTtKnBOOoz2rTdXAelt9oEq28DSLIoKyMcbW78ms51oRCzL6aSZGL3EuCyhWWLgH61zTxUnsVyk1tpyQxwg4DxMSGUcke9YSm2xlub/AFEn+6f5VMd0BDF/qU/3RXsmZHLeQQ5DOCwBO1eTgUhlV7+aUEQRhN0fmIz9/wAKBGXdC5vo/OWN5kQhwZOF6fMMd6ALel6Vi2DyyMN3RYzgFe1FgL40uzEgcQDIHrTAuUgEoGFAC0CCgApgRPcRIcbst6LyfWgBBJM3IiwP9o0AS0gCgCNpo16uPw5obS3GIJt33I3cdiBxWUq8F1Cwu24cY2InruOf5VlLFxWyHykS25iuAsjBw6kjjpjr/MVdCt7S9wasWAAOgxXQIU0CCgBDQA1xuUjJGR2oAzLlY7dWEM3zSDDZlxWcoRluhofZYmhiLszAp0LcbgcGsKMIttNDZZKQJ/HtPs3NbunDqhXY4goR/pDgnpubNS8PTfQLseHuV/iR/dhj+VZPCR6MfMAlW4c208QOVyRnIIrnqUXS1uNO48Q2luB8kMeOnAFY3kxkUmq2UZA88Mx6BRkmqVKb2QXKtpHaS30gMD5P7xPNXjnrgVrUVSMUmJWNcDAwK5xjJZo4E3yuFXIGT6mhJvYDLn1tYJQCvDDaqngh/Q+1bxoSkK5jz6rPNuM6OWjkG5FPyge/rXXCjGHqJsmvNReG3VpZgHWTb5K8Aqe9btklGC5vI3jby9kkYJVX6SIfTuaQzRhSKSCKd5GmhjYq6dNmf6U7CNqN7aRWt4nQhVwVU9AaAJIYlghWJM7VGBmgB9ABQAUAJQMa8qRj5mAoER+dJJ/qouP7z8CgA8lm5mlJHXC8CmAsfloEESfK38SjgfWgCRN5B3gA54x6UAR3DFbd2U42jP4DrUyvZ2AkFpGfvl3/AN5uleZKvUfU0siRYo0+6ig+oFZtt7gPpAFAFe54aF/R8E+xH+OK6MLK07ClsOr0iAoGFAhKAKF3dkTeTFIoYEB8jP3un8qTAz4EmhjQAQD955TEpkg+tJDJWjMMM0bnJjl3ZXj5W5P61zT92r6jWw77OJWCm1Kgqfnduc9q6FFdhFuGzhZFc5bODycijkQFyrEMeJH+8oJ9aTinuBlXkAOqw/K0+EPyNkge9Z8ii/dQ7iWltdwTIPIjSMuW4P3faqjfqBJHPKs6TTzLuikMZQDHBrKvFygxo3a80ow9Zvw5ayXhSpLSHpkc7R711UKN/eYmzGG+6NwFify3AwzdS3Y5NdqVtESSNaSxEXd4vkxSALIinljTt3AqXFos3+kuv7gMFdQ3NFgJ4bXdIJT580RBFoO4PrTAsWxk02Y+ehzIPmjHIKn+tAGlp1jKkqSsoijTdsQD5iD/AHqYie/kjSSMi4EMygsM9GHoaQFm1lee2SR1CswzgUASsyoMsQB70AQ/aQxxEjOfUDj86AE8uaT78mwf3U/xoAFSCIblXcc7SRyc0ASHzG3qMJ/dbrQBFJPBEzO0gLquCAcnH0pgZd5rxi8pLWJcSAgM5xg5x0pXAz7jWbu3kA81pg6hwykKBntii4zq2UMpUjIIwaYh1qxa1jLHLbQG+o4P61481yyaNES1ICMyr95gPqaLARG7hBwG3H0UZrSNKctkFyGaV549qRN1By3GCDnpXRSw84yUmS2iau4kKACgCheXDhYJEDBPNA3Z6j6Vl7WLlyodivqaKkm8bV8yMjPT5h8wq2BVknRkcrcRKkhWTkEsG4/qKAJirSbi8+8XMBwwXbyvIFc9dbSGhsDq/kypFcyuCMsTwM8VuhGtB9wqTnaxFWIloAWgAwM5xzQBHPCJ4thZl5yCp5FDAppZ2zXHlrGzSBgXd+TiuevNQj5lI1m+6QDjjr6V5pRyjW0aGYXTPJOjfIqjhf8Aar1KLThoQzbt7dYI/PmcNIV+Z+wHsOwrYRz15fjV7poYySIz8kY6t70mBflto7qM3W5QVARIwOp9CPWmBYhiOn25k8vdcyfciXovsPakBArSTfuI2WbzxmTeOYj3/wDrUDNmJBDEkeSQoxkmgCOSWBiV2iVvQDNAgH2hxgBYl/M0AHlRIGeQmQryc8/pQBKGYkBVwhXIb09sUARyMsMSyTyYMeSSOM/hQBQOrF1X7HaMVkYBJHG1STQBnPPfXVpOJ7wQvG2NsYxnPFYuq+blHYVSjfY7i3jkiMg2TMWxkngZPXqKilN87UmN7EGo6f5cdwJGVZExMuzgHPUZ/wA9a6WILJ2jtVxprTK3zBwmc5/+vmgDrKBEKCeMMisgQsWB78nP9a554dTlzNlJilJG+/M5/wB3gVSw9NdBXYggiH8AP15rVQitkFyQAAYAwKoQtABQAtICGZtymFAS7jHHYetRUqKEbsaRT1DzZjNbhkVIow4HfODiuXD07+/cpsqyNGVtpp7wSbXDbCoxyCOn412XJEiubUwTRxxb+SMckNyetNWsIZZiScoiQvuin3MAOFBHTn2Oa5600ouLKSHHaiTQNPNlGZRGg/LmrpSvBCe5pWcolUOP40Df0rZCLQoAWgCgt9KbhdyIIGkaMNnnIpXAfe3ps5YQULJJkZHY44obS1YxdPumaJ5rqMwSMfusOw6V51eXPLQpaEkqSXgG92jh/uL1b6muilhktZbicjNRxbXTbwxCfu2LfxJng++OlUv3c7dGG6KU+oiS5GmmbEKvhphz9Aa3uSWZ9DluiLgOkNxGMRNDwD7mmBFp86W00gvg32iM/KCPvE9/qaVxlm6wiiaZj9tc/u1Q/c9v8aALNnbzQ72UEyS4LvJ6+woAteQGOZnLnrjOBQA5GTahhTKMcZHGKBCuDsbzZNo3ZBBxxQBWuNQt7Z/lRpJHGRsHB/GgCsby6urSV1dLdo8NjruXGRz2oAhNxCuoQzQq0qXCbWUnjceR149qAM+7a8jhez8wQmOTeFxnCk5Bz7GgCDSnZLpGaN3Lgh2B4J6jn8qzcFKWo7mjLbSmEx747dZGLbTyQDyB+Y/Wm4LQLirBfXQk22wR24MjHr+dVqI0YbG8ihSMXioFGAqx5H60wNCmAGgBKAEoAKACgCOa5htwDNIEz0zSArNqtuzIkLeY0h2rgcZpSmoq4zRhhES9cueWb1NeVUm5u7LSsZrwq2szh+d8QwD6dP6V2YX4WTIzVAh09R5C/u5MtISBnDfnW0leLQjXTT5Bu2XJjjZi4VV6ZOa41iZRVkVYsWlklq0rh2d5SCzN3wMVjOo5u7GlYqSxyRX03lE4cByMDg9Ov4V1YeU3C0SWZdhdbb5Y85UMyqc9Bn8u4roXMmrsR0NaiIprdLgAMzgDsrYzQBnyxQxyfYrdYQCN7+Y569PzpAVJYJobhCqxfucTErIx4zjvUVI80Who3rwl7CRkCklcjd0rzKek0WJbyCW3Rwc5HpXr3MzP1gRgQO2NxbZz02nrmk0mBzU6C0kWx2Rpl/nmPVh1B9qLaAbEV7PaR7rWIz2oAXlv4v8AZPcUAaEOnNJGxuny0h3Mo459M0DH2trFamSRC00udpY9R7UAWyHJcFgqkcEdRQBXku7aGRFZ982MKF5JoArm/uJ7aWSCIRtC5DpJ97igRm6jKkV/by+c1xFKMGJjkDPTikwF+yXNxZmInabZiwVjjjqOB+NMBts0MOopHIWnWVMhTycdV49ulJAWkSS4090BW3hjlJDP95MHI4pgSJCk7lxBJdMwwZJvlX8BQBcS1ndSs0wROyQjAH40ASBbW2C525XgE8nk0ANa8ZhiKMjjhn470AEd2FDCTJYMeenFAFqmAGgBKAEoAKAEJA6kUARm4iBGGBPHTnqcUAZNl5jXtgkkYWNS7Ic8nqOa5sTfkKW4y2sLubUy8mZLQzSBj5hBGCRjr64rCU4qFluO2peuNFILSW8zA9lck474B64rOFZodjOgtYrpGMjoHC7sN15+vHWu1U7q7ZNzb0iZ5rANIxZgzA59jXBWiozaRSL1Zgc9rd81pqGzZkS2+Mg8jk124VtRdiZHPLdXMIilQKYwQQue57V02bsI2b7UtTW085BHHETsDIdxzV6iKdpqlwkc8JvAZMhgzKck96SYyvGZzcO0kluGctv43HI/xpiNFIbq8TENkwBG0yhtoI79aynXhHRjsdJZxSR2MUU2CyrtPOa82TTldFmWLz7BLcW5R3YSfu16k56fhXpUZc0LshrUoSx3d75yMBIp/wBZg8fQemK1ELGM2zwrCZdq4aUjMir6Y9aALunW88nkNIqi1jB8pSMN7EimBfZ4YyizShpFJIGefypDIH1Am3aa2hLqrYct8uPwoEZ2qyPHcxrLcM8UvKqnAH1xz0pPQYsTyC0TyLc7rZ9xZuDt+nXpTELMYLa+L3lyGguk3cfKMjp09qAIZT5ulPFDCAYX3K7/ACnA5XjqaHsBcsDBqEJuZp9zSKA6D5cY7UJgES20msJsi/domI2HALD+dLqBajRWur22bo4D4+owf5UwJbGRntAp/wBZHlDn1FCAiEryrkueo4AxyOv4UANCKvQe1AxWZVBLEAD1oArSxW80hZ49xHGcGgDYzjrTERtNGDguMk4x+GaQDFuA+NkbkHHOMcEUwEBnbBKKnQkE5+ooAaQVTfLcHC43beBkdaAAQxI6LsZiR9484wcjP50gHgPscKiowyE9PrTAxrOMf2paSmZSVeWIRjt15/SubEL92yluOnvHtZLlY5pFInOEVM8E8nP51lCnCUU2Ntjjd3bcpdbR/wBNGWtfq8OwrlW2geVMmMuQeXjTOT+NaRWlhGzowZEuI2DAiTOG64IFcWJVpFI065xmPrQljlhuYQm6ON87xxj5a68I9WKRmWn2WPRZHuPsrXCBmJHBB54zXcQQsbiXToLOExyo33sKcoRz+NTKSS1YyzZ+H1DiWSDzHI5DptwfrmsXiKa63HZlqz8O2tkfOmcKQBnYxA/E1hPEylpFDsMvNTaW6+y208UMAQneG5yDitKNBNc0xNjY1Mei75bqYzyqSjFiTntiuj2UOwrsjm3ajp1hfoxSVT5chHBGeDXNS9yo4DexqxW0VrbNG7gJ1z0x+NdpJmtdRtei7tY3aBTteROjHp+VICS8mu/NkhmnSJWTfGYzjPPTJrOrNxtYaMlb6GApLHEzyo4YvjOMcMM0U5PqDLt49ylwpZ9ttdDc3k9cY9T7Vo9BGdDciAI8cDM0b4EhbJ4PfPtSTGbjsJJWkaZv3ygCO3GSR7mmIc2m/aoFTyVt9pGGPzPgUmrgWBpNs0vmz7ppOOXPHHtTsBYaztnxmBOOmBiiwDZrfc0DRBV8p846cdDTAZgJq4bHMkJGfoaXUAT9xqbp/DOu4f7w6/p/KjqBBKTDcyqFLbiGAGfxoGKIbmXOMRjnnv7GgB7W1tCC88gPUnce1Ahwv1wPKtp3TsQnFAE8kMPlLOu+ZdwGRzz93P8APNU0AqoEcKsahAv3h7cY/KkAx2KxMJJlRs53DsM8fpQBC97aiUMHZ2AxhASKm6Aas8xBENmy5JJ3kKDTuwGPLcY/e3MEIPYckUtQGwpDdOVNzPKR3+6MUJJjFksra2ubWaKFEfzgCwHJBBHWsq6/dsFuVbxypvYtsZ3SZyTz2PSopO9NIb3NNINijbb2w4/uY/pR9Vv9oOYzlF4Xn+zhgA53AYwD7VcIziuVA7FrShcJfXS3HLFUbOfr/hXNiU1a44mvXKMztYt2uIEVGCkttJPTBHf9K2o1OR3Bq5nw6Zp0DPJMyyttBMSZZeO/vW0qlWp8KsKyRJapqW+I74xbtyfKG0gfStlh4dSbl020xJ/0ybBPTiq+r0+wXZB5IW+SJ3eRShYhznNEacYy0C5KbKMXiSrFGFCkEBRWois19JsZctG6uQWEJYYFFwK+j4uRqFmJA8ZO9W27cE+31rixHuzUkWtitNieGGRt7PEdtwu7JI6Y9K7E7q6JLaQyky2uFtY5l3hcBsDoR/WmIyjGsmoW3m77l92Nmcjjgisqt+V2GjeOmzTxXIKRwCU5C4DEcc8+9cKqcrRdirp+nxz2gR5JPOgbbvJzgew6V6Sd1czNCPSrSOUSmPfLjBZznNMC2kaRKFjRVUdgMUAJK5jidwpbaM4HegCiL66dEdLZAr9N0g4+tAEJ1C53SqZLZDH2yTupXAWHUJZZbYLNGxfHmIq/d/GmmBbl/wCQnb/7jUdQDUFKxLOoy0LB/wAO/wClDAjk1W22OYzukUZVSCN30ouA+OO6mCySz7AQDsjH6EmgCRbcnnCx9enJ59z05pgOkuBG20qTSASOTUJBsxDEPfLZppsBsmny5/e3Urr6L8vNJxYCLYWykHy9zDu5yaVkMLkiC3LJIkAyMttz19qb2EZiTpJcSLPcTuigbCoI69elTpcZa0y3hazSQxqztnLEZJ5qopWEXJZEhjy2QOgwOfwobSV2BzkP2ua+ik3TNFFKpfefUkDj6EVzVakXGxSRdvmYTX6CSNfnBAb733VPFZ0YJpSuNs0P7RtFUZnTPpXbdElCKVZJpgt3JEJJTtCp196leoFzTCWvbkmRpMKo3MMetceL3RUTVrkGVNUAbTZwemP61dP40DKhjeK6RoYNy+RtwMAden616xmRWcMTW4+0XMqOCRsD4xzXHUnVjKyKSQlzbPbpJPFfyGPKhI9wPUgH+tKNeb0Y7In2RLqkflgkiMhmySM1ph5TlrITL1dJJDOkjxFYtgJ67xkYpjM+ET22qxFolEZGxmjTavtXNiY3hcaJbkGG5uIBC8iTrvAQdCeDk9qMLK8LdgkPgsAyI10WdwuNpPC+3FdBImo26x2qSQoFMLbgFGOO9KSurAA1G6uVAtbY/wC+3SuSOF7srmJLKzlglkmlkDPJ1VRxXXGPKrIku0wCgBCAQQehoAy72xtlttsUQLBgcBiaT20AgubmEJ5MdsYHyuWCrkDNAFiOzuIJom+0NIu/kZ7U7MB+pArNbSb5EUEqzIMkDFDAkGoR7VURzv23eWefxouBc2Lu3bRu9cUALQAUAVbiNmkyFJGKALNMCxG4kXa3WqWoELoUbBqWgKOoqxtPkRnKyRthRk4Dgn9BSGVhdOl5NP8AZZ/LdEUZTByCf8RSbtqxEli00FqscttIu0Elj061kq8NrlWZOpW8iO6NlAPG4df/AK1atKSsxFa7AitZPlULFLE2UXbzuGRx14/nXFUgoTSRSZDLPm8nkijjdZCCDIjZHAHp7VVKpyRs0Jq44T3+cx2/4iIj+dW8Sg5SOW91RZY41gUs5IwRjt7mqhVc3ZBaxd0k3DzXT3OA+4DAA449q5sS3zK40aTyLGu52AHvXOk27IZTupzJbSAwPsI6/wD1utdUMNNNSE2Tr9xfpXeQLQBGYImOTEh+qiiwDlRUGEUKPQDFJaALTASkMa6CRCp70NXVmAio/mF5HDHG0YGOKzpUlTvYG7korUQUAApALQAmaBhQAUAYlzps8kxKwKy+ZvLb8Ej0qbAO+xuZppJtN8wPjbiReMfjTEJa2kiSW+baVHR8szOSuPzosBd1IMUhCiRl8wbhGeSKbAjs7CJoy00UgbccCRyTj86EgNIDAxQAUAFABQAlMBQSDkdaAJwRMmD1FVuBXZSpwetSBWvHEUHmnG1GDEHv/k4qKkeaNrjREtxcXJ8t42RWH8UfA/WudYWK1THzEgtTuU+ZjBz8oI/rW0afK73YrkkltFLncpycHgnqOhq3BPdCF2zjgT8e65NYvC0yuZi7JW+9O/8AwEAULDU0LmZn3FiFuDN5LyqQOVfDKfbnmtVBLZBcn0fYVudhcjzcEP1BwODXBivjKjsOLh792c8IcLnoOK6cNFKFxMt10iKsxIkPJoASRj5mcntQBbHSgQUAJQBHMxVRj1pAQ+c/qPypjJ4nLrk0CJBQAUAKKQBQAlAwoAKAFoEFABTAKACgAoAKQBQAlABTAKBiqxVsigROyiZNw61W4FVkDAq6gjuCKkBaACgAoAKBi0hBTAgg225un4xvBwBjkgVwYlXqJIuOxWG4bi/DMSxHpmuyEeWKRJdi/wBUv0qgI5oWdsrjmgQjwOTkYpgWARjqKADI9RQBXklYOQCMUDGNIzjDYI+lADNpxkKcH0pAWIARHyMc0xE1ABQAtIAoASgYUwGSSrGPmzk9ABkn6CgRWXU7cozkSKFYKd6Ec/jUtjLUMqTxLJGcq3Q00IfTAKACgBCcAmgCv9qP90fnSAmik8xc4xQA40DCmIKACgB8blG9u9CdgJJUDjetNoCvSAKACgYtIQUAFAFVyNtyM8+Yn/stctRfvolLYtYrrJDpSGLQID0pgUSrA4Kn8qBibT/cP5UgDB/ut+VAChHY4Cn8aAHEvD8u6gCyh3KCaYh1ABQMWkIKAENAwpgZepSOLy1WMSbhubKLntSYFdHlaSOKWJxIZTKSUxkDvQBo6Z5n2JA6gDnbg9s96EIuUwCgAoAKAGeVH/cH5UgHBQowBgUAFAz/2Q==' width='200' height='133' class=\"itemThumbnail\">\n",
       "                       </a>\n",
       "                    </div>\n",
       "\n",
       "                    <div class=\"item_right\"     style=\"float: none; width: auto; overflow: hidden;\">\n",
       "                        <a href='https://umich.maps.arcgis.com//home/item.html?id=1c5bcad792e24f7e8819369f2566726c' target='_blank'><b>TimeScalesCorinthExample</b>\n",
       "                        </a>\n",
       "                        <br/>Combined polygon layers from https://www.arcgis.com/home/item.html?id=f5e717c8341347a5b773d9c5e3512fdf<img src='https://umich.maps.arcgis.com//home/js/jsapi/esri/css/images/item_type_icons/featureshosted16.png' style=\"vertical-align:middle;\">Feature Layer Collection by aheinlei_umich\n",
       "                        <br/>Last Modified: July 07, 2021\n",
       "                        <br/>0 comments, 0 views\n",
       "                    </div>\n",
       "                </div>\n",
       "                "
      ],
      "text/plain": [
       "<Item title:\"TimeScalesCorinthExample\" type:Feature Layer Collection owner:aheinlei_umich>"
      ]
     },
     "execution_count": 29,
     "metadata": {},
     "output_type": "execute_result"
    }
   ],
   "source": [
    "layer"
   ]
  },
  {
   "cell_type": "markdown",
   "metadata": {},
   "source": [
    "This next line is optional and will publicly share the feature layer."
   ]
  },
  {
   "cell_type": "code",
   "execution_count": 30,
   "metadata": {
    "scrolled": true
   },
   "outputs": [
    {
     "data": {
      "text/plain": [
       "{'results': [{'itemId': '1c5bcad792e24f7e8819369f2566726c', 'success': True, 'notSharedWith': []}]}"
      ]
     },
     "execution_count": 30,
     "metadata": {},
     "output_type": "execute_result"
    }
   ],
   "source": [
    "layer.share(everyone=True)"
   ]
  },
  {
   "cell_type": "markdown",
   "metadata": {},
   "source": [
    "Access the data layer within the feature layer to time-enable it."
   ]
  },
  {
   "cell_type": "code",
   "execution_count": 31,
   "metadata": {},
   "outputs": [
    {
     "data": {
      "text/plain": [
       "<FeatureLayer url:\"https://services1.arcgis.com/4ezfu5dIwH83BUNL/arcgis/rest/services/TimeScalesCorinthExample/FeatureServer/0\">"
      ]
     },
     "execution_count": 31,
     "metadata": {},
     "output_type": "execute_result"
    }
   ],
   "source": [
    "fl = layer.layers[0]\n",
    "fl"
   ]
  },
  {
   "cell_type": "code",
   "execution_count": 32,
   "metadata": {},
   "outputs": [],
   "source": [
    "# fl.properties"
   ]
  },
  {
   "cell_type": "code",
   "execution_count": 33,
   "metadata": {},
   "outputs": [],
   "source": [
    "if date_range:\n",
    "    timeInfo = {'timeInfo': {'startTimeField': scaledfield1, 'endTimeField': scaledfield2}}\n",
    "else:\n",
    "    timeInfo = {'timeInfo': {'startTimeField': scaledfield1, 'endTimeField': ''}}"
   ]
  },
  {
   "cell_type": "code",
   "execution_count": 34,
   "metadata": {},
   "outputs": [
    {
     "data": {
      "text/plain": [
       "{'success': True}"
      ]
     },
     "execution_count": 34,
     "metadata": {},
     "output_type": "execute_result"
    }
   ],
   "source": [
    "fl.manager.update_definition(timeInfo)"
   ]
  },
  {
   "cell_type": "markdown",
   "metadata": {},
   "source": [
    "# The layer is now ready to be used in a web map!\n",
    "### See the JavaScript file for template map code."
   ]
  }
 ],
 "metadata": {
  "kernelspec": {
   "display_name": "ArcGISPro",
   "language": "Python",
   "name": "python3"
  },
  "language_info": {
   "file_extension": ".py",
   "name": "python",
   "version": "3"
  }
 },
 "nbformat": 4,
 "nbformat_minor": 2
}
